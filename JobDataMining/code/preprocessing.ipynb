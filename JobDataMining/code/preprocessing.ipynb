{
 "cells": [
  {
   "cell_type": "code",
   "execution_count": 7,
   "metadata": {},
   "outputs": [],
   "source": [
    "import pandas as pd\n",
    "import re\n",
    "\n",
    "df = pd.read_excel(\"..\\\\data\\\\jobdata_raw.xlsx\")"
   ]
  },
  {
   "cell_type": "markdown",
   "metadata": {},
   "source": [
    "# 薪资数据预处理"
   ]
  },
  {
   "cell_type": "code",
   "execution_count": 8,
   "metadata": {},
   "outputs": [],
   "source": [
    "# 添加三个新列并初始化为0\n",
    "df[\"salary_min\"] = 0 # 薪资下限\n",
    "df[\"salary_max\"] = 0 # 薪资上限\n",
    "df[\"salary_type\"] = \"\" # 薪资类型"
   ]
  },
  {
   "cell_type": "markdown",
   "metadata": {},
   "source": [
    "## 薪资数据划分\n",
    "原始数据包含月薪、周薪、日薪、时薪、次结和面议等不同薪酬表达形式。为了使分析更加直观，本报告依据《中华人民共和国劳动合同法》将薪酬数据划分为**固定用工**和**灵活用工**两类，即月薪类型数据为**固定用工**，周薪、日薪、时薪、次结类型数据为**灵活用工**。\n",
    "其中，固定用工与**全职**、**校招**两类招聘类型相对应，灵活用工与**实习**、**兼职**两类招聘类型相对应。\n",
    "\n",
    "为统一薪资的表示模式，本作品通过正则表达式匹配抽取每条数据的薪资上界和下界，同时依据劳动和社会保障部颁布的《关于职工全年月平均工作时间和工资折算问题的通知》，**将不同薪酬模式均换算为年薪**以便于比较。类型为次结和面议的薪酬信息除外。"
   ]
  },
  {
   "cell_type": "code",
   "execution_count": 13,
   "metadata": {},
   "outputs": [
    {
     "name": "stdout",
     "output_type": "stream",
     "text": [
      "    salary_min  salary_max salary_type\n",
      "0        96000      144000           M\n",
      "1       120000      167999           M\n",
      "2        84000      120000           M\n",
      "3        96000      120000           M\n",
      "4       120000      144000           M\n",
      "5       120000      180000           M\n",
      "6        84000      167999           M\n",
      "7       120000      180000           M\n",
      "8       132000      240000           M\n",
      "9       132000      264000           M\n",
      "10      120000      180000           M\n",
      "11      132000      192000           M\n",
      "12      144000      180000           M\n",
      "13       72000      108000           M\n",
      "14      120000      204000           M\n",
      "15       96000      180000           M\n",
      "16      144000      180000           M\n",
      "17       96000      132000           M\n",
      "18       96000      144000           M\n",
      "19      144000      180000           M\n"
     ]
    }
   ],
   "source": [
    "# 遍历每一行数据\n",
    "for index, row in df.iterrows():\n",
    "    salary = row['薪资']\n",
    "\n",
    "    # 处理“面议”类型\n",
    "    if salary == \"面议\":\n",
    "        df.at[index, \"salary_type\"] = \"N\"\n",
    "\n",
    "    # 处理“次结”类型\n",
    "    match = re.match(\"(\\d+)-(\\d+)元/次\", salary) # 匹配“X-Y元/次”格式\n",
    "    if match: \n",
    "        df.at[index, \"salary_type\"] = \"S\"\n",
    "        df.at[index, \"salary_min\"] = int(match.group(1))\n",
    "        df.at[index, \"salary_max\"] = int(match.group(2))\n",
    "        continue\n",
    "\n",
    "    match = re.match(\"(\\d+)元/次\", salary) # 匹配“X元/次”格式\n",
    "    if match: \n",
    "        df.at[index, \"salary_type\"] = \"S\"\n",
    "        df.at[index, \"salary_min\"] = int(match.group(1))\n",
    "        df.at[index, \"salary_max\"] = int(match.group(1))\n",
    "        continue\n",
    "\n",
    "    # 处理“月薪”类型\n",
    "    match = re.match(\"(\\d+(\\.\\d+)?)(千|万)-(\\d+(\\.\\d+)?)(千|万)\", salary) # 匹配“X(千/万)-Y(千/万)”格式\n",
    "    if match:\n",
    "        x_value = float(match.group(1)) * 12\n",
    "        x_unit = match.group(3)\n",
    "        y_value = float(match.group(4)) * 12\n",
    "        y_unit = match.group(6)\n",
    "\n",
    "        if x_unit == '千':\n",
    "            x_value *= 1000\n",
    "        elif x_unit == '万':\n",
    "            x_value *= 10000\n",
    "\n",
    "        if y_unit == '千':\n",
    "            y_value *= 1000\n",
    "        elif y_unit == '万':\n",
    "            y_value *= 10000\n",
    "\n",
    "        df.at[index, \"salary_type\"] = \"M\"\n",
    "        df.at[index, \"salary_min\"] = int(x_value)\n",
    "        df.at[index, \"salary_max\"] = int(y_value)\n",
    "        continue\n",
    "\n",
    "    match = re.match(\"(\\d+(\\.\\d+)?)(千|万)-(\\d+(\\.\\d+)?)(千|万)元/月\", salary) # 匹配“X(千/万)-Y(千/万)元/月”格式\n",
    "    if match:\n",
    "        x_value = float(match.group(1)) * 12\n",
    "        x_unit = match.group(3)\n",
    "        y_value = float(match.group(4)) * 12\n",
    "        y_unit = match.group(6)\n",
    "\n",
    "        if x_unit == '千':\n",
    "            x_value *= 1000\n",
    "        elif x_unit == '万':\n",
    "            x_value *= 10000\n",
    "\n",
    "        if y_unit == '千':\n",
    "            y_value *= 1000\n",
    "        elif y_unit == '万':\n",
    "            y_value *= 10000\n",
    "\n",
    "        df.at[index, \"salary_type\"] = \"M\"\n",
    "        df.at[index, \"salary_min\"] = int(x_value)\n",
    "        df.at[index, \"salary_max\"] = int(y_value)\n",
    "        continue\n",
    "\n",
    "    match = re.match(\"(\\d+)元/月\", salary) # 匹配“X元/月”格式\n",
    "    if match: \n",
    "        df.at[index, \"salary_type\"] = \"M\"\n",
    "        df.at[index, \"salary_min\"] = int(match.group(1))*12\n",
    "        df.at[index, \"salary_max\"] = int(match.group(1))*12\n",
    "        continue\n",
    "\n",
    "    match = re.match(\"(\\d+(\\.\\d+)?)(千|万)元以下\", salary) # 匹配“X(千/万)元以下”格式\n",
    "    if match: \n",
    "        x_value = float(match.group(1)) * 12\n",
    "        x_unit = match.group(3)\n",
    "\n",
    "        if x_unit == '千':\n",
    "            x_value *= 1000\n",
    "        elif x_unit == '万':\n",
    "            x_value *= 10000\n",
    "        \n",
    "        df.at[index, \"salary_type\"] = \"M\"\n",
    "        df.at[index, \"salary_min\"] = 0\n",
    "        df.at[index, \"salary_max\"] = int(x_value)\n",
    "        continue\n",
    "\n",
    "\n",
    "    # 处理“周薪”类型\n",
    "    match = re.match(\"(\\d+)-(\\d+)元/周\", salary) # 匹配“X-Y元/周”格式\n",
    "    if match: \n",
    "        df.at[index, \"salary_type\"] = \"W\"\n",
    "        df.at[index, \"salary_min\"] = int(match.group(1))*50 # 按照相关政策，周薪至年薪的换算方式为一年50周\n",
    "        df.at[index, \"salary_max\"] = int(match.group(2))*50\n",
    "        continue\n",
    "\n",
    "    match = re.match(\"(\\d+)元/周\", salary) # 匹配“X元/周”格式\n",
    "    if match: \n",
    "        df.at[index, \"salary_type\"] = \"W\"\n",
    "        df.at[index, \"salary_min\"] = int(match.group(1))*50\n",
    "        df.at[index, \"salary_max\"] = int(match.group(1))*50\n",
    "        continue\n",
    "\n",
    "    # 处理“日薪”类型\n",
    "    match = re.match(\"(\\d+)-(\\d+)/天\", salary) # 匹配“X-Y元/天”格式\n",
    "    if match: \n",
    "        df.at[index, \"salary_type\"] = \"D\"\n",
    "        df.at[index, \"salary_min\"] = int(match.group(1))*250 # 按照相关政策，日薪至年薪的换算方式为一年250天\n",
    "        df.at[index, \"salary_max\"] = int(match.group(2))*250\n",
    "        continue\n",
    "\n",
    "    match = re.match(\"(\\d+)元/天\", salary) # 匹配“X元/天”格式\n",
    "    if match: \n",
    "        df.at[index, \"salary_type\"] = \"D\"\n",
    "        df.at[index, \"salary_min\"] = int(match.group(1))*250\n",
    "        df.at[index, \"salary_max\"] = int(match.group(1))*250\n",
    "        continue\n",
    "\n",
    "    # 处理“时薪”类型，匹配“X-Y元/时”格式：\n",
    "    match = re.match(\"(\\d+)-(\\d+)元/时\", salary)\n",
    "    if match: \n",
    "        df.at[index, \"salary_type\"] = \"H\"\n",
    "        df.at[index, \"salary_min\"] = int(match.group(1))*2000 # 按照相关政策，日薪至年薪的换算方式为一年2000h\n",
    "        df.at[index, \"salary_max\"] = int(match.group(2))*2000\n",
    "        continue\n",
    "\n",
    "\n",
    "# df_w_salary_type = df[df[\"salary_type\"] == \"W\"]\n",
    "# df_d_salary_type = df[df[\"salary_type\"] == \"D\"]\n",
    "# df_h_salary_type = df[df[\"salary_type\"] == \"H\"]\n",
    "# df_n_salary_type = df[df[\"salary_type\"] == \"N\"]\n",
    "# df_s_salary_type = df[df[\"salary_type\"] == \"S\"]\n",
    "\n",
    "# # print(df_w_salary_type.head(10))\n",
    "# # print(df_d_salary_type.head(10))\n",
    "# # print(df_h_salary_type.head(10))\n",
    "# # print(df_n_salary_type.head(10))\n",
    "# print(df_s_salary_type.head(10))\n",
    "\n",
    "print(df[[\"salary_min\", \"salary_max\", \"salary_type\"]].head(20))"
   ]
  },
  {
   "cell_type": "code",
   "execution_count": null,
   "metadata": {},
   "outputs": [],
   "source": [
    "# 删除原始“薪资”列\n",
    "df = df.drop(columns = ['薪资'])"
   ]
  },
  {
   "cell_type": "markdown",
   "metadata": {},
   "source": [
    "# 经验要求预处理"
   ]
  },
  {
   "cell_type": "code",
   "execution_count": 19,
   "metadata": {},
   "outputs": [
    {
     "name": "stdout",
     "output_type": "stream",
     "text": [
      "['3-5年' '经验不限' '1-3年' '5-10年' '1年以下' '无经验' '10年以上']\n"
     ]
    }
   ],
   "source": [
    "# 获取所有种类的经验要求\n",
    "experiences = df['工作经验'].unique()\n",
    "print(experiences)"
   ]
  },
  {
   "cell_type": "code",
   "execution_count": 20,
   "metadata": {},
   "outputs": [
    {
     "name": "stdout",
     "output_type": "stream",
     "text": [
      "['3-5年' '经验不限' '1-3年' '5-10年' '1年以下' '10年以上']\n"
     ]
    }
   ],
   "source": [
    "# 合并同类值\n",
    "for index, row in df.iterrows():\n",
    "    exp = row['工作经验']\n",
    "\n",
    "    if exp == '无经验': \n",
    "        df.at[index, '工作经验'] = '经验不限'\n",
    "        continue\n",
    "\n",
    "print(df['工作经验'].unique())"
   ]
  },
  {
   "cell_type": "code",
   "execution_count": 21,
   "metadata": {},
   "outputs": [],
   "source": [
    "output_file = \"..\\\\data\\\\jobdata_preprocessed.xlsx\"\n",
    "df.to_excel(output_file, index = False, engine = 'openpyxl')"
   ]
  }
 ],
 "metadata": {
  "kernelspec": {
   "display_name": "Python 3 (ipykernel)",
   "language": "python",
   "name": "python3"
  }
 },
 "nbformat": 4,
 "nbformat_minor": 2
}
