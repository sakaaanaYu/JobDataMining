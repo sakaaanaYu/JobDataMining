{
 "cells": [
  {
   "cell_type": "code",
   "execution_count": 2,
   "metadata": {},
   "outputs": [],
   "source": [
    "import pandas as pd"
   ]
  },
  {
   "cell_type": "code",
   "execution_count": 3,
   "metadata": {},
   "outputs": [],
   "source": [
    "file_path = \"C:\\\\Users\\\\LENOVO\\\\WPSDrive\\\\569704374\\\\WPS云盘\\\\数据挖掘\\\\JobDataMining\\\\data\\\\task4\\\\zhihu_get_opinion.csv\"\n",
    "data = pd.read_csv(file_path)"
   ]
  },
  {
   "cell_type": "code",
   "execution_count": 4,
   "metadata": {},
   "outputs": [],
   "source": [
    "def count_elements(column_data):\n",
    "    element_counts = {}\n",
    "    for entry in column_data:\n",
    "        if pd.isna(entry): \n",
    "            continue\n",
    "\n",
    "        elements = eval(entry) \n",
    "        for element in elements:\n",
    "            if element in element_counts:\n",
    "                element_counts[element] += 1\n",
    "            else:\n",
    "                element_counts[element] = 1\n",
    "    return element_counts"
   ]
  },
  {
   "cell_type": "code",
   "execution_count": 5,
   "metadata": {},
   "outputs": [],
   "source": [
    "agree_counts = count_elements(data['agree'])\n",
    "disagree_counts = count_elements(data['disagree'])\n",
    "neutral_counts = count_elements(data['neutral'])\n",
    "\n",
    "sorted_agree = dict(sorted(agree_counts.items(), key=lambda x: x[1], reverse=True))\n",
    "sorted_disagree = dict(sorted(disagree_counts.items(), key=lambda x: x[1], reverse=True))\n",
    "sorted_neutral = dict(sorted(neutral_counts.items(), key=lambda x: x[1], reverse=True))"
   ]
  },
  {
   "cell_type": "code",
   "execution_count": 6,
   "metadata": {},
   "outputs": [
    {
     "data": {
      "text/plain": [
       "{'journalism-favors-new-media-jobs': 43,\n",
       " 'experience-matters-significantly': 27,\n",
       " 'tier-1-cities-offer-more-jobs': 22,\n",
       " 'pm-marketing-roles-pay-better': 12,\n",
       " 'education-level-matters-little': 7,\n",
       " 'higher-education-earns-more': 7,\n",
       " 'tech-skills-earn-more': 4,\n",
       " 'more-experience-earns-more': 1,\n",
       " 'soft-skills-earn-more': 1}"
      ]
     },
     "execution_count": 6,
     "metadata": {},
     "output_type": "execute_result"
    }
   ],
   "source": [
    "sorted_agree"
   ]
  },
  {
   "cell_type": "code",
   "execution_count": 7,
   "metadata": {},
   "outputs": [
    {
     "data": {
      "text/plain": [
       "{'higher-education-earns-more': 11,\n",
       " 'education-level-matters-little': 10,\n",
       " 'journalism-favors-new-media-jobs': 7,\n",
       " 'low-education-can-earn-high': 5,\n",
       " 'tier-1-cities-offer-more-jobs': 4,\n",
       " 'experience-matters-significantly': 2,\n",
       " 'tech-skills-earn-more': 2,\n",
       " 'more-experience-earns-more': 1,\n",
       " 'pm-marketing-roles-pay-better': 1,\n",
       " 'soft-skills-earn-more': 1}"
      ]
     },
     "execution_count": 7,
     "metadata": {},
     "output_type": "execute_result"
    }
   ],
   "source": [
    "sorted_disagree"
   ]
  },
  {
   "cell_type": "code",
   "execution_count": 8,
   "metadata": {},
   "outputs": [
    {
     "data": {
      "text/plain": [
       "{'more-experience-earns-more': 113,\n",
       " 'soft-skills-earn-more': 113,\n",
       " 'low-education-can-earn-high': 110,\n",
       " 'tech-skills-earn-more': 109,\n",
       " 'pm-marketing-roles-pay-better': 102,\n",
       " 'education-level-matters-little': 98,\n",
       " 'higher-education-earns-more': 97,\n",
       " 'tier-1-cities-offer-more-jobs': 89,\n",
       " 'experience-matters-significantly': 86,\n",
       " 'journalism-favors-new-media-jobs': 65}"
      ]
     },
     "execution_count": 8,
     "metadata": {},
     "output_type": "execute_result"
    }
   ],
   "source": [
    "sorted_neutral"
   ]
  }
 ],
 "metadata": {
  "kernelspec": {
   "display_name": "Python 3 (ipykernel)",
   "language": "python",
   "name": "python3"
  },
  "language_info": {
   "codemirror_mode": {
    "name": "ipython",
    "version": 3
   },
   "file_extension": ".py",
   "mimetype": "text/x-python",
   "name": "python",
   "nbconvert_exporter": "python",
   "pygments_lexer": "ipython3",
   "version": "3.11.5"
  }
 },
 "nbformat": 4,
 "nbformat_minor": 2
}
